{
 "cells": [
  {
   "cell_type": "markdown",
   "metadata": {},
   "source": [
    "# COGS 118A- Project Checkpoint"
   ]
  },
  {
   "cell_type": "markdown",
   "metadata": {},
   "source": [
    "### Peer Review\n",
    "\n",
    "You will all have an opportunity to look at the Project Proposals of other groups to fuel your creativity and get more ideas for how you can improve your own projects. \n",
    "\n",
    "Both the project proposal and project checkpoint will have peer review."
   ]
  },
  {
   "cell_type": "markdown",
   "metadata": {},
   "source": [
    "# Names\n",
    "\n",
    "Hopefully your team is at least this good. Obviously you should replace these with your names.\n",
    "\n",
    "- Sam Schwartz\n",
    "- Campbell Moco\n",
    "- Chris Molina\n",
    "- Ryan Desmond"
   ]
  },
  {
   "cell_type": "markdown",
   "metadata": {},
   "source": [
    "# Abstract \n",
    "We want to make a model that can recommend the best drug a patient can get for their condition. To make this model we are using data from the UCI ML Drug Review dataset which displays thousands of observations of patients’ reviews and ratings of certain drugs along side what condition they took the drug for and how many users found their review useful. To achieve our goal, we will first clean up our data primarily the review section and the date to make them more readable then implement a classification algorithm such as decision trees or K-nearest Neighbors to determine the best drug that should be used for certain conditions. To test the performance of our model we will split the data into a train and test group and compare the two."
   ]
  },
  {
   "cell_type": "markdown",
   "metadata": {},
   "source": [
    "# Background\n",
    "\n",
    "Prescribing the proper drug to use for any given condition or circumstance is one of the most important aspects of being a physician<a name=\"rational\"></a>[<sup>[1]</sup>](#rationalnote). For any given disease that requires treatment, there may be thousands of drug options and potentially infinite variation in the patients which makes reaching a decision about a prescribed drug and treatment plan a cognitively difficult task. Even then, once a drug is prescribed, it could have negative effects for the patient that could prove just as troublesome as the original problem. Rational prescribing refers to the methodology physicians use when choosing what drug to prescribe (diagnosing, assessing prognosis and patient goals, establishing treatment plan, and monitoring the treatment)<a name=\"rational\"></a>[<sup>[1]</sup>](#rationalnote). Finding a model that would optimize patient care and increase patient satisfaction would be beneficial for not just the patients, but also the physicians who monitor the treatment plan. It could also potentially lead to a standardization of rational prescribing for physicians globally.\n",
    "   \n",
    "WHO estimates that more than half of the drugs prescribed, are prescribed inappropriately to the patient meaning that the drug prescribed was not the best possible choice for the patient<a name=\"who\"></a>[<sup>[2]</sup>](#whonote). It is a global issue that has created excessive waste of scarce resources and in some cases has contributed to wide-spread health hazards. An example would be the overuse of injections when oral formulations would be considered more appropriate for the situation<a name=\"who\"></a>[<sup>[2]</sup>](#whonote). Using a model that captures the process of rational prescription could reduce the number of inappropriate prescriptions which could potentially lead to more resources and reduce the likelihood of health hazards.\n",
    "    \n",
    "This model could also potentially help physicians who are “pathologically prescribing”. A study that randomly sampled from registered medical practitioners showed that more than 60% of prescription antibiotics were prescribed without enough indication to do so as well as a lesser duration period than would be effective for treatment<a name=\"irrational\"></a>[<sup>[3]</sup>](#irrationalnote). As humans, we eventually become desensitized and habituated to our environments after prolonged exposure. What this means for physicians or registered medical practitioners is that eventually one might see symptoms that are common with certain diseases and think that the common prescription for that disease may be substantial. However, each patient is different and there could perhaps be slight differences that physicians miss. A model that could distinguish between those differences and help physicians make more appropriate choices for the specific patient rather than the general circumstances usually associated with the problem could be beneficial for both patient and physician."
   ]
  },
  {
   "cell_type": "markdown",
   "metadata": {},
   "source": [
    "# Problem Statement\n",
    "\n",
    "In the modern drug market, it can be difficult to tell what drug to take for what condition, as there are many different versions of drugs to take for each condition. Our goal is to find the best model to recommend the best drug for the condition a patient has."
   ]
  },
  {
   "cell_type": "markdown",
   "metadata": {},
   "source": [
    "# Data\n",
    "\n",
    "Link to the dataset: https://www.kaggle.com/datasets/jessicali9530/kuc-hackathon-winter-2018?select=drugsComTest_raw.csv\n",
    "\n",
    "The dataset we looked at is the UCI Machine Learning Repository Drug Review Dataset. It has 48,000 observation and 7 variables. A single observation includes a unique id of the patient, name of the drug they were using, what condition they used it for, a written out review of the drug, a rating out of 10, date of the review, and number of users who found the review helpful. In order to properly use the dataset, we will have to clean the date into a usable format, as well as clean up the reviews since a lot of them aren't in formal language. "
   ]
  },
  {
   "cell_type": "markdown",
   "metadata": {},
   "source": [
    "# Proposed Solution\n",
    "\n",
    "We are going to make a variety of  models that, given a condition or list of conditions, would recommend a drug to take based on user ratings. Once we've created these models, we will compare each to the others to find the best one."
   ]
  },
  {
   "cell_type": "markdown",
   "metadata": {},
   "source": [
    "# Evaluation Metrics\n",
    "\n",
    "We are going to use accuracy, precision, and recall as evaluation metrics. We chose to use these 3 because we thought they were all important for our model. When we're dealing with things like medicine and drug recommendations, we need to make sure all of our model metrics are high. Otherwise we could end up giving someone an incorrect drug which could lead to further medical issues. "
   ]
  },
  {
   "cell_type": "markdown",
   "metadata": {},
   "source": [
    "# Preliminary results\n",
    "\n",
    "NEW SECTION!\n",
    "\n",
    "Please show any preliminary results you have managed to obtain.\n",
    "\n",
    "Examples would include:\n",
    "- Analyzing the suitability of a dataset or alogrithm for prediction/solving your problem \n",
    "- Performing feature selection or hand-designing features from the raw data. Describe the features available/created and/or show the code for selection/creation\n",
    "- Showing the performance of a base model/hyper-parameter setting.  Solve the task with one \"default\" algorithm and characterize the performance level of that base model.\n",
    "- Learning curves or validation curves for a particular model\n",
    "- Tables/graphs showing the performance of different models/hyper-parameters\n",
    "\n"
   ]
  },
  {
   "cell_type": "markdown",
   "metadata": {},
   "source": [
    "# Ethics & Privacy"
   ]
  },
  {
   "cell_type": "markdown",
   "metadata": {},
   "source": [
    "Some ethics and privacy issues of this project can include potential bias in the data collection and informed consent since neither we nor UCSD does not have access to the publication on how the data was collected. There might not be enough honest representation of the populations that take these different drugs or have these conditions in the data, and there is a potential that an incorrect suggestion may have extremely bad side effects, i.e., a patient being prescribed the wrong drug for the condition that they have. If a patient decided to take this drug based off of our model's wrong suggestion, there may be bad ethical problems following the release of this project. A possible way to mitigate this problem would be to have clear end-user license agreement stating that this project was meant for educational purposes only, and to not take the resulting suggestion over a medically trained doctor's advice."
   ]
  },
  {
   "cell_type": "markdown",
   "metadata": {},
   "source": [
    "# Team Expectations "
   ]
  },
  {
   "cell_type": "markdown",
   "metadata": {},
   "source": [
    "* *Team Expectation 1:* Everyone is expected to put the same amount of work into the project. Some people end up doing more work than others, but as long as one or two people aren't doing all the work or none of the work it is fine.\n",
    "* *Team Expectation 2:* Everyone should be involved with making decisions, but those who get to make decisions must be present at the meeting.\n",
    "* *Team Expectation 3:* One meeting per week, Tuesday @ 5 PM online, zoom or discord.\n",
    "* *Team Expectation 4:* We shouldnt have any conflict, but if there is, we'll make sure to communicate with each other effectively."
   ]
  },
  {
   "cell_type": "markdown",
   "metadata": {},
   "source": [
    "# Project Timeline Proposal"
   ]
  },
  {
   "cell_type": "markdown",
   "metadata": {},
   "source": [
    "| Meeting Date  | Meeting Time/Due Date| Completed Before Meeting  | Discuss at Meeting |\n",
    "|---|---|---|---|\n",
    "| 4/26  |  5 PM |  N/A  | Discuss data wrangling and possible analytical approaches | \n",
    "| 4/29  | 11:59 PM | Finish peer reviews | Turn in peer reviews |\n",
    "| 5/3  |  5 PM |  Edit & finalize proposal if there are any issues | Finalize wrangling & analytical approaches | \n",
    "| 5/10  | 5 PM  | Import & wrangle data, have a notebook ready  | Review & edit wrangling, discuss analysis plan   |\n",
    "| 5/13  | 11:59 PM | Finish checkpoint | Turn in checkpoint | \n",
    "| 5/17  | 5 PM  | Finalize data wrangling, train and test each algorithm | Discuss each algorithm output & start using evaluation metrics, start work on the final paper  |\n",
    "| 5/20  | 11:59 PM | Finish checkpoint peer reviews | Turn in chekcpoint peer reviews |\n",
    "| 5/24  | 5 PM  | Work on final paper | Discuss/edit project code; Complete project |\n",
    "| 5/31  | 5 PM  | Finalize work on the paper | Discuss & edit any issues in paper |\n",
    "| 6/8  | Before 11:59 PM  | NA | Turn in Final Project  |"
   ]
  },
  {
   "cell_type": "markdown",
   "metadata": {},
   "source": [
    "# Footnotes\n",
    "<a name=\"rationalnote\"></a>1.[^](#rational): Maxwell, S. R. (2016, October). Rational prescribing: The principles of drug selection. Clinical medicine (London, England). Retrieved April 24, 2022, from https://www.ncbi.nlm.nih.gov/pmc/articles/PMC6297291/\n",
    "\n",
    "<a name=\"whonote\"></a>2.[^](#who): World Health Organization. (n.d.). Promoting rational use of medicines. World Health Organization. Retrieved April 24, 2022, from https://www.who.int/activities/promoting-rational-use-of-medicines\n",
    "\n",
    "<a name=\"irrationalnote\"></a>3.[^](#irrational): Garg, M., Vishwakarma, P., Sharma, M., Nehra, R., &amp; Saxena, K. K. (2014, October). The impact of irrational practices: A wake up call. Journal of pharmacology &amp; pharmacotherapeutics. Retrieved April 24, 2022, from https://www.ncbi.nlm.nih.gov/pmc/articles/PMC4231553/ \n"
   ]
  },
  {
   "cell_type": "markdown",
   "metadata": {},
   "source": [
    "# Data Cleaning"
   ]
  },
  {
   "cell_type": "code",
   "execution_count": 1,
   "metadata": {},
   "outputs": [],
   "source": [
    "import pandas as pd"
   ]
  },
  {
   "cell_type": "code",
   "execution_count": 5,
   "metadata": {},
   "outputs": [],
   "source": [
    "train_str = 'drugsComTrain_raw.tsv'\n",
    "test_str = 'drugsComTest_raw.tsv'\n",
    "train_df = pd.read_csv(train_str, sep='\\t')\n",
    "test_df = pd.read_csv(test_str, sep='\\t')"
   ]
  },
  {
   "cell_type": "code",
   "execution_count": 6,
   "metadata": {},
   "outputs": [],
   "source": [
    "#removes unneeded columns\n",
    "train_df.drop(['review', 'Unnamed: 0', 'date'], inplace = True, axis = 1)\n",
    "test_df.drop(['review', 'Unnamed: 0', 'date'], inplace = True, axis = 1)\n",
    "\n",
    "#removes rows with nan values\n",
    "test_df = test_df.dropna()\n",
    "train_df = train_df.dropna()"
   ]
  },
  {
   "cell_type": "code",
   "execution_count": 7,
   "metadata": {},
   "outputs": [
    {
     "data": {
      "text/html": [
       "<div>\n",
       "<style scoped>\n",
       "    .dataframe tbody tr th:only-of-type {\n",
       "        vertical-align: middle;\n",
       "    }\n",
       "\n",
       "    .dataframe tbody tr th {\n",
       "        vertical-align: top;\n",
       "    }\n",
       "\n",
       "    .dataframe thead th {\n",
       "        text-align: right;\n",
       "    }\n",
       "</style>\n",
       "<table border=\"1\" class=\"dataframe\">\n",
       "  <thead>\n",
       "    <tr style=\"text-align: right;\">\n",
       "      <th></th>\n",
       "      <th>drugName</th>\n",
       "      <th>condition</th>\n",
       "      <th>rating</th>\n",
       "      <th>usefulCount</th>\n",
       "    </tr>\n",
       "  </thead>\n",
       "  <tbody>\n",
       "    <tr>\n",
       "      <th>0</th>\n",
       "      <td>Valsartan</td>\n",
       "      <td>Left Ventricular Dysfunction</td>\n",
       "      <td>9.0</td>\n",
       "      <td>27</td>\n",
       "    </tr>\n",
       "    <tr>\n",
       "      <th>1</th>\n",
       "      <td>Guanfacine</td>\n",
       "      <td>ADHD</td>\n",
       "      <td>8.0</td>\n",
       "      <td>192</td>\n",
       "    </tr>\n",
       "    <tr>\n",
       "      <th>2</th>\n",
       "      <td>Lybrel</td>\n",
       "      <td>Birth Control</td>\n",
       "      <td>5.0</td>\n",
       "      <td>17</td>\n",
       "    </tr>\n",
       "    <tr>\n",
       "      <th>3</th>\n",
       "      <td>Ortho Evra</td>\n",
       "      <td>Birth Control</td>\n",
       "      <td>8.0</td>\n",
       "      <td>10</td>\n",
       "    </tr>\n",
       "    <tr>\n",
       "      <th>4</th>\n",
       "      <td>Buprenorphine / naloxone</td>\n",
       "      <td>Opiate Dependence</td>\n",
       "      <td>9.0</td>\n",
       "      <td>37</td>\n",
       "    </tr>\n",
       "  </tbody>\n",
       "</table>\n",
       "</div>"
      ],
      "text/plain": [
       "                   drugName                     condition  rating  usefulCount\n",
       "0                 Valsartan  Left Ventricular Dysfunction     9.0           27\n",
       "1                Guanfacine                          ADHD     8.0          192\n",
       "2                    Lybrel                 Birth Control     5.0           17\n",
       "3                Ortho Evra                 Birth Control     8.0           10\n",
       "4  Buprenorphine / naloxone             Opiate Dependence     9.0           37"
      ]
     },
     "execution_count": 7,
     "metadata": {},
     "output_type": "execute_result"
    }
   ],
   "source": [
    "train_df.head()"
   ]
  },
  {
   "cell_type": "code",
   "execution_count": 8,
   "metadata": {},
   "outputs": [
    {
     "data": {
      "text/html": [
       "<div>\n",
       "<style scoped>\n",
       "    .dataframe tbody tr th:only-of-type {\n",
       "        vertical-align: middle;\n",
       "    }\n",
       "\n",
       "    .dataframe tbody tr th {\n",
       "        vertical-align: top;\n",
       "    }\n",
       "\n",
       "    .dataframe thead th {\n",
       "        text-align: right;\n",
       "    }\n",
       "</style>\n",
       "<table border=\"1\" class=\"dataframe\">\n",
       "  <thead>\n",
       "    <tr style=\"text-align: right;\">\n",
       "      <th></th>\n",
       "      <th>drugName</th>\n",
       "      <th>condition</th>\n",
       "      <th>rating</th>\n",
       "      <th>usefulCount</th>\n",
       "    </tr>\n",
       "  </thead>\n",
       "  <tbody>\n",
       "    <tr>\n",
       "      <th>0</th>\n",
       "      <td>Mirtazapine</td>\n",
       "      <td>Depression</td>\n",
       "      <td>10.0</td>\n",
       "      <td>22</td>\n",
       "    </tr>\n",
       "    <tr>\n",
       "      <th>1</th>\n",
       "      <td>Mesalamine</td>\n",
       "      <td>Crohn's Disease, Maintenance</td>\n",
       "      <td>8.0</td>\n",
       "      <td>17</td>\n",
       "    </tr>\n",
       "    <tr>\n",
       "      <th>2</th>\n",
       "      <td>Bactrim</td>\n",
       "      <td>Urinary Tract Infection</td>\n",
       "      <td>9.0</td>\n",
       "      <td>3</td>\n",
       "    </tr>\n",
       "    <tr>\n",
       "      <th>3</th>\n",
       "      <td>Contrave</td>\n",
       "      <td>Weight Loss</td>\n",
       "      <td>9.0</td>\n",
       "      <td>35</td>\n",
       "    </tr>\n",
       "    <tr>\n",
       "      <th>4</th>\n",
       "      <td>Cyclafem 1 / 35</td>\n",
       "      <td>Birth Control</td>\n",
       "      <td>9.0</td>\n",
       "      <td>4</td>\n",
       "    </tr>\n",
       "  </tbody>\n",
       "</table>\n",
       "</div>"
      ],
      "text/plain": [
       "          drugName                     condition  rating  usefulCount\n",
       "0      Mirtazapine                    Depression    10.0           22\n",
       "1       Mesalamine  Crohn's Disease, Maintenance     8.0           17\n",
       "2          Bactrim       Urinary Tract Infection     9.0            3\n",
       "3         Contrave                   Weight Loss     9.0           35\n",
       "4  Cyclafem 1 / 35                 Birth Control     9.0            4"
      ]
     },
     "execution_count": 8,
     "metadata": {},
     "output_type": "execute_result"
    }
   ],
   "source": [
    "test_df.head()"
   ]
  },
  {
   "cell_type": "code",
   "execution_count": 9,
   "metadata": {},
   "outputs": [
    {
     "data": {
      "text/plain": [
       "drugName       3667\n",
       "condition       916\n",
       "rating           10\n",
       "usefulCount     397\n",
       "dtype: int64"
      ]
     },
     "execution_count": 9,
     "metadata": {},
     "output_type": "execute_result"
    }
   ],
   "source": [
    "#number of unique drugs and conditions in both datasets\n",
    "full_df = pd.concat([train_df, test_df])\n",
    "full_df.nunique()"
   ]
  },
  {
   "cell_type": "code",
   "execution_count": null,
   "metadata": {},
   "outputs": [],
   "source": []
  }
 ],
 "metadata": {
  "kernelspec": {
   "display_name": "Python 3",
   "language": "python",
   "name": "python3"
  },
  "language_info": {
   "codemirror_mode": {
    "name": "ipython",
    "version": 3
   },
   "file_extension": ".py",
   "mimetype": "text/x-python",
   "name": "python",
   "nbconvert_exporter": "python",
   "pygments_lexer": "ipython3",
   "version": "3.8.8"
  }
 },
 "nbformat": 4,
 "nbformat_minor": 2
}

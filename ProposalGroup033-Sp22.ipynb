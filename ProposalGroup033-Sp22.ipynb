{
 "cells": [
  {
   "cell_type": "markdown",
   "metadata": {},
   "source": [
    "# COGS 118A- Project Proposal"
   ]
  },
  {
   "cell_type": "markdown",
   "metadata": {},
   "source": [
    "# Project Description\n",
    "\n",
    "You will design and execute a machine learning project. There are a few constraints on the nature of the allowed project. \n",
    "- The problem addressed will not be a \"toy problem\" or \"common training students problem\" like mtcars, iris, palmer penguins etc.\n",
    "- The dataset will have >1k observations and >5 variables. I'd prefer more like >10k observations and >10 variables. A general rule is that if you have >100x more observations than variables, your solution will likely generalize a lot better. The goal of training a supervised machine learning model is to learn the underlying pattern in a dataset in order to generalize well to unseen data, so choosing a large dataset is very important.\n",
    "\n",
    "- The project will include a model selection and/or feature selection component where you will be looking for the best setup to maximize the performance of your ML system.\n",
    "- You will evaluate the performance of your ML system using more than one appropriate metric\n",
    "- You will be writing a report describing and discussing these accomplishments\n",
    "\n",
    "\n",
    "Feel free to delete this description section when you hand in your proposal."
   ]
  },
  {
   "cell_type": "markdown",
   "metadata": {},
   "source": [
    "### Peer Review\n",
    "\n",
    "You will all have an opportunity to look at the Project Proposals of other groups to fuel your creativity and get more ideas for how you can improve your own projects. \n",
    "\n",
    "Both the project proposal and project checkpoint will have peer review."
   ]
  },
  {
   "cell_type": "markdown",
   "metadata": {},
   "source": [
    "# Names\n",
    "\n",
    "Hopefully your team is at least this good. Obviously you should replace these with your names.\n",
    "\n",
    "- Sam Schwartz\n",
    "- Campbell Moco\n",
    "- Chris Molina\n",
    "- Ryan Desmond"
   ]
  },
  {
   "cell_type": "markdown",
   "metadata": {},
   "source": [
    "# Abstract \n",
    "We want to make a model that can recommend the best drug a patient can get for their condition. To make this model we are using data from the UCI ML Drug Review dataset which displays thousands of observations of patients’ reviews and ratings of certain drugs along side what condition they took the drug for and how many users found their review useful. To achieve our goal, we will first clean up our data primarily the review section and the date to make them more readable then implement a classification algorithm such as decision trees or K-nearest Neighbors to determine the best drug that should be used for certain conditions. To test the performance of our model we will split the data into a train and test group and compare the two."
   ]
  },
  {
   "cell_type": "markdown",
   "metadata": {},
   "source": [
    "# Background\n",
    "\n",
    "# Background\n",
    "\n",
    "Prescribing the proper drug to use for any given condition or circumstance is one of the most important aspects of being a physician<a name=\"rational\"></a>[<sup>[1]</sup>](#rationalnote). For any given disease that requires treatment, there may be thousands of drug options and potentially infinite variation in the patients which makes reaching a decision about a prescribed drug and treatment plan a cognitively difficult task. Even then, once a drug is prescribed, it could have negative effects for the patient that could prove just as troublesome as the original problem. Rational prescribing refers to the methodology physicians use when choosing what drug to prescribe (diagnosing, assessing prognosis and patient goals, establishing treatment plan, and monitoring the treatment)<a name=\"rational\"></a>[<sup>[1]</sup>](#rationalnote). Finding a model that would optimize patient care and increase patient satisfaction would be beneficial for not just the patients, but also the physicians who monitor the treatment plan. It could also potentially lead to a standardization of rational prescribing for physicians globally.\n",
    "   \n",
    "WHO estimates that more than half of the drugs prescribed, are prescribed inappropriately to the patient meaning that the drug prescribed was not the best possible choice for the patient<a name=\"who\"></a>[<sup>[2]</sup>](#whonote). It is a global issue that has created excessive waste of scarce resources and in some cases has contributed to wide-spread health hazards. An example would be the overuse of injections when oral formulations would be considered more appropriate for the situation<a name=\"who\"></a>[<sup>[2]</sup>](#whonote). Using a model that captures the process of rational prescription could reduce the number of inappropriate prescriptions which could potentially lead to more resources and reduce the likelihood of health hazards.\n",
    "    \n",
    "This model could also potentially help physicians who are “pathologically prescribing”. A study that randomly sampled from registered medical practitioners showed that more than 60% of prescription antibiotics were prescribed without enough indication to do so as well as a lesser duration period than would be effective for treatment<a name=\"irrational\"></a>[<sup>[3]</sup>](#irrationalnote). As humans, we eventually become desensitized and habituated to our environments after prolonged exposure. What this means for physicians or registered medical practitioners is that eventually one might see symptoms that are common with certain diseases and think that the common prescription for that disease may be substantial. However, each patient is different and there could perhaps be slight differences that physicians miss. A model that could distinguish between those differences and help physicians make more appropriate choices for the specific patient rather than the general circumstances usually associated with the problem could be beneficial for both patient and physician."
   ]
  },
  {
   "cell_type": "markdown",
   "metadata": {},
   "source": [
    "# Problem Statement\n",
    "\n",
    "In the modern drug market, it can be difficult to tell what drug to take for what condition, as there are many different versions of drugs to take for each condition. Our goal is to find the best model to recommend the best drug for the condition a patient has."
   ]
  },
  {
   "cell_type": "markdown",
   "metadata": {},
   "source": [
    "# Data\n",
    "\n",
    "Link to the dataset: https://www.kaggle.com/datasets/jessicali9530/kuc-hackathon-winter-2018?select=drugsComTest_raw.csv\n",
    "\n",
    "The dataset we looked at is the UCI Machine Learning Repository Drug Review Dataset. It has 48,000 observation and 7 variables. A single observation includes a unique id of the patient, name of the drug they were using, what condition they used it for, a written out review of the drug, a rating out of 10, date of the review, and number of users who found the review helpful. In order to properly use the dataset, we will have to clean the date into a usable format, as well as clean up the reviews since a lot of them aren't in formal language. "
   ]
  },
  {
   "cell_type": "markdown",
   "metadata": {},
   "source": [
    "# Proposed Solution\n",
    "\n",
    "We are going to make a variety of  models that, given a condition or list of conditions, would recommend a drug to take based on user ratings. Once we've created these models, we will compare each to the others to find the best one."
   ]
  },
  {
   "cell_type": "markdown",
   "metadata": {},
   "source": [
    "# Evaluation Metrics\n",
    "\n",
    "We are going to use accuracy, precision, and recall as evaluation metrics. We chose to use these 3 because we thought they were all important for our model. When we're dealing with things like medicine and drug recommendations, we need to make sure all of our model metrics are high. Otherwise we could end up giving someone an incorrect drug which could lead to further medical issues. "
   ]
  },
  {
   "cell_type": "markdown",
   "metadata": {},
   "source": [
    "# Ethics & Privacy"
   ]
  },
  {
   "cell_type": "markdown",
   "metadata": {},
   "source": [
    "If your project has obvious potential concerns with ethics or data privacy discuss that here.  Almost every ML project put into production can have ethical implications if you use your imagination. Use your imagination.\n",
    "\n",
    "Even if you can't come up with an obvious ethical concern that should be addressed, you should know that a large number of ML projects that go into producation have unintended consequences and ethical problems once in production. How will your team address these issues?\n",
    "\n",
    "Consider a tool to help you address the potential issues such as https://deon.drivendata.org"
   ]
  },
  {
   "cell_type": "markdown",
   "metadata": {},
   "source": [
    "# Team Expectations "
   ]
  },
  {
   "cell_type": "markdown",
   "metadata": {},
   "source": [
    "* *Team Expectation 1:* Everyone is expected to put the same amount of work into the project. Some people end up doing more work than others, but as long as one or two people aren't doing all the work or none of the work it is fine.\n",
    "* *Team Expectation 2:* Everyone should be involved with making decisions, but those who get to make decisions must be present at the meeting.\n",
    "* *Team Expectation 3:* One meeting per week, Tuesday @ 5 PM online, zoom or discord.\n",
    "* *Team Expectation 4:* We shouldnt have any conflict, but if there is, we'll make sure to communicate with each other effectively."
   ]
  },
  {
   "cell_type": "markdown",
   "metadata": {},
   "source": [
    "# Project Timeline Proposal"
   ]
  },
  {
   "cell_type": "markdown",
   "metadata": {},
   "source": [
    "| Meeting Date  | Meeting Time/Due Date| Completed Before Meeting  | Discuss at Meeting |\n",
    "|---|---|---|---|\n",
    "| 4/26  |  5 PM |  N/A  | Discuss data wrangling and possible analytical approaches | \n",
    "| 4/29  | 11:59 PM | Finish peer reviews | Turn in peer reviews |\n",
    "| 5/3  |  5 PM |  Edit & finalize proposal if there are any issues | Finalize wrangling & analytical approaches | \n",
    "| 5/10  | 5 PM  | Import & wrangle data, have a notebook ready  | Review & edit wrangling, discuss analysis plan   |\n",
    "| 5/13  | 11:59 PM | Finish checkpoint | Turn in checkpoint | \n",
    "| 5/17  | 5 PM  | Finalize data wrangling, train and test each algorithm | Discuss each algorithm output & start using evaluation metrics, start work on the final paper  |\n",
    "| 5/20  | 11:59 PM | Finish checkpoint peer reviews | Turn in chekcpoint peer reviews |\n",
    "| 5/24  | 5 PM  | Work on final paper | Discuss/edit project code; Complete project |\n",
    "| 5/31  | 5 PM  | Finalize work on the paper | Discuss & edit any issues in paper |\n",
    "| 6/8  | Before 11:59 PM  | NA | Turn in Final Project  |"
   ]
  },
  {
   "cell_type": "markdown",
   "metadata": {},
   "source": [
    "# Footnotes\n",
    "<a name=\"rationalnote\"></a>1.[^](#rational): Maxwell, S. R. (2016, October). Rational prescribing: The principles of drug selection. Clinical medicine (London, England). Retrieved April 24, 2022, from https://www.ncbi.nlm.nih.gov/pmc/articles/PMC6297291/\n",
    "\n",
    "<a name=\"whonote\"></a>2.[^](#who): World Health Organization. (n.d.). Promoting rational use of medicines. World Health Organization. Retrieved April 24, 2022, from https://www.who.int/activities/promoting-rational-use-of-medicines\n",
    "\n",
    "<a name=\"irrationalnote\"></a>3.[^](#irrational): Garg, M., Vishwakarma, P., Sharma, M., Nehra, R., &amp; Saxena, K. K. (2014, October). The impact of irrational practices: A wake up call. Journal of pharmacology &amp; pharmacotherapeutics. Retrieved April 24, 2022, from https://www.ncbi.nlm.nih.gov/pmc/articles/PMC4231553/ \n"
   ]
  }
 ],
 "metadata": {
  "kernelspec": {
   "display_name": "Python 3",
   "language": "python",
   "name": "python3"
  },
  "language_info": {
   "codemirror_mode": {
    "name": "ipython",
    "version": 3
   },
   "file_extension": ".py",
   "mimetype": "text/x-python",
   "name": "python",
   "nbconvert_exporter": "python",
   "pygments_lexer": "ipython3",
   "version": "3.9.12"
  }
 },
 "nbformat": 4,
 "nbformat_minor": 2
}
